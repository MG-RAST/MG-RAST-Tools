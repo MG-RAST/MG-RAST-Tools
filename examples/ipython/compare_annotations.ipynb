{
 "metadata": {
  "access": [
   "guumby@gmail.com"
  ],
  "created": "2013-10-24T16:02:26.776931",
  "description": "",
  "format": "ipynb",
  "name": "api_demo_seed_genbank",
  "nbid": "d82e3269-1fb5-4415-b492-1cc0e2bad539",
  "owner": "teharrison",
  "permission": "edit",
  "type": "analysis"
 },
 "nbformat": 3,
 "nbformat_minor": 0,
 "worksheets": [
  {
   "cells": [
    {
     "cell_type": "code",
     "collapsed": false,
     "input": "# function to get python struct from API url\nimport urllib2, json\nfrom operator import itemgetter\nfrom prettytable import PrettyTable\ndef obj_from_url(url, data=None):\n    req = urllib2.Request(url, data)\n    res = urllib2.urlopen(req)\n    obj = json.loads(res.read())\n    return obj",
     "language": "python",
     "metadata": {},
     "outputs": [],
     "prompt_number": 1
    },
    {
     "cell_type": "code",
     "collapsed": false,
     "input": "# variables\nmg = 'mgm4447943.3'\napi = 'http://api.metagenomics.anl.gov/1'\nhypo = ['hypothetical', 'hyphothetical', 'putative']",
     "language": "python",
     "metadata": {},
     "outputs": [],
     "prompt_number": 2
    },
    {
     "cell_type": "code",
     "collapsed": false,
     "input": "# get BIOM dump for SEED functions\nseed_func = obj_from_url(api+'/matrix/function?id='+mg+'&source=SEED')",
     "language": "python",
     "metadata": {},
     "outputs": [],
     "prompt_number": 3
    },
    {
     "cell_type": "code",
     "collapsed": false,
     "input": "# get BIOM dump for SEED md5s\nseed_md5 = obj_from_url(api+'/matrix/feature?id='+mg+'&source=SEED')",
     "language": "python",
     "metadata": {},
     "outputs": [],
     "prompt_number": 6
    },
    {
     "cell_type": "code",
     "collapsed": false,
     "input": "# set of seed md5\nmd5_set = set( map(lambda x: x['id'], seed_md5['rows']) )",
     "language": "python",
     "metadata": {},
     "outputs": [],
     "prompt_number": 7
    },
    {
     "cell_type": "code",
     "collapsed": false,
     "input": "# top 10 seed functions (not hypothetical)\nnum = 0\nseed_top = []\nfor s in sorted(seed_func['data'], key=itemgetter(2), reverse=True):\n    skip = False\n    name = seed_func['rows'][s[0]]['id']\n    for h in hypo:\n        if h in name:\n            skip = True\n    if not skip and num < 10:\n        seed_top.append([name, s[2]])\n        num += 1",
     "language": "python",
     "metadata": {},
     "outputs": [],
     "prompt_number": 8
    },
    {
     "cell_type": "code",
     "collapsed": false,
     "input": "# print table: SEED annotation, abundance\nx = PrettyTable([\"SEED annotation\", \"abundance\"])\nx.align[\"SEED annotation\"] = \"l\"\nfor st in seed_top:\n    x.add_row([st[0], st[1]])\nprint x",
     "language": "python",
     "metadata": {},
     "outputs": [
      {
       "output_type": "stream",
       "stream": "stdout",
       "text": "+-----------------------------------------------------------------------------+-----------+\n| SEED annotation                                                             | abundance |\n+-----------------------------------------------------------------------------+-----------+\n| Transposase                                                                 |    642    |\n| TonB-dependent receptor                                                     |    591    |\n| ABC transporter ATP-binding protein                                         |    471    |\n| DNA polymerase III alpha subunit (EC 2.7.7.7)                               |    461    |\n| Beta-galactosidase (EC 3.2.1.23)                                            |    435    |\n| ABC transporter, ATP-binding protein                                        |    382    |\n| DNA-directed RNA polymerase beta' subunit (EC 2.7.7.6)                      |    369    |\n| Phage protein                                                               |    356    |\n| Type I restriction-modification system, restriction subunit R (EC 3.1.21.3) |    316    |\n| autotransporter adhesin                                                     |    313    |\n+-----------------------------------------------------------------------------+-----------+\n"
      }
     ],
     "prompt_number": 9
    },
    {
     "cell_type": "code",
     "collapsed": false,
     "input": "# for each of the top seed hits retrieve the md5s / only keep those in metagenome\nfor i, x in enumerate(seed_top):\n    url = api+'/m5nr/function/'+x[0].replace(' ', '%20')+'?exact=1&source=SEED&limit=100000'\n    print url\n    annot = obj_from_url(url)\n    md5s = set()\n    for a in annot['data']:\n        if a['md5'] in md5_set:\n            md5s.add(a['md5'])\n    seed_top[i].append(list(md5s))",
     "language": "python",
     "metadata": {},
     "outputs": [
      {
       "output_type": "stream",
       "stream": "stdout",
       "text": "http://api.metagenomics.anl.gov/1/m5nr/function/Transposase?exact=1&source=SEED&limit=100000\nhttp://api.metagenomics.anl.gov/1/m5nr/function/TonB-dependent%20receptor?exact=1&source=SEED&limit=100000"
      },
      {
       "output_type": "stream",
       "stream": "stdout",
       "text": "\nhttp://api.metagenomics.anl.gov/1/m5nr/function/ABC%20transporter%20ATP-binding%20protein?exact=1&source=SEED&limit=100000"
      },
      {
       "output_type": "stream",
       "stream": "stdout",
       "text": "\nhttp://api.metagenomics.anl.gov/1/m5nr/function/DNA%20polymerase%20III%20alpha%20subunit%20(EC%202.7.7.7)?exact=1&source=SEED&limit=100000"
      },
      {
       "output_type": "stream",
       "stream": "stdout",
       "text": "\nhttp://api.metagenomics.anl.gov/1/m5nr/function/Beta-galactosidase%20(EC%203.2.1.23)?exact=1&source=SEED&limit=100000"
      },
      {
       "output_type": "stream",
       "stream": "stdout",
       "text": "\nhttp://api.metagenomics.anl.gov/1/m5nr/function/ABC%20transporter,%20ATP-binding%20protein?exact=1&source=SEED&limit=100000"
      },
      {
       "output_type": "stream",
       "stream": "stdout",
       "text": "\nhttp://api.metagenomics.anl.gov/1/m5nr/function/DNA-directed%20RNA%20polymerase%20beta'%20subunit%20(EC%202.7.7.6)?exact=1&source=SEED&limit=100000"
      },
      {
       "output_type": "stream",
       "stream": "stdout",
       "text": "\nhttp://api.metagenomics.anl.gov/1/m5nr/function/Phage%20protein?exact=1&source=SEED&limit=100000"
      },
      {
       "output_type": "stream",
       "stream": "stdout",
       "text": "\nhttp://api.metagenomics.anl.gov/1/m5nr/function/Type%20I%20restriction-modification%20system,%20restriction%20subunit%20R%20(EC%203.1.21.3)?exact=1&source=SEED&limit=100000"
      },
      {
       "output_type": "stream",
       "stream": "stdout",
       "text": "\nhttp://api.metagenomics.anl.gov/1/m5nr/function/autotransporter%20adhesin?exact=1&source=SEED&limit=100000"
      },
      {
       "output_type": "stream",
       "stream": "stdout",
       "text": "\n"
      }
     ],
     "prompt_number": 10
    },
    {
     "cell_type": "code",
     "collapsed": false,
     "input": "# print table: SEED annotation, abundance, # of md5s\nx = PrettyTable([\"SEED annotation\", \"abundance\", \"md5s\"])\nx.align[\"SEED annotation\"] = \"l\"\nfor st in seed_top:\n    x.add_row([st[0], st[1], len(st[2])])\nprint x",
     "language": "python",
     "metadata": {},
     "outputs": [
      {
       "output_type": "stream",
       "stream": "stdout",
       "text": "+-----------------------------------------------------------------------------+-----------+------+\n| SEED annotation                                                             | abundance | md5s |\n+-----------------------------------------------------------------------------+-----------+------+\n| Transposase                                                                 |    642    |  70  |\n| TonB-dependent receptor                                                     |    591    | 133  |\n| ABC transporter ATP-binding protein                                         |    471    | 613  |\n| DNA polymerase III alpha subunit (EC 2.7.7.7)                               |    461    | 132  |\n| Beta-galactosidase (EC 3.2.1.23)                                            |    435    |  85  |\n| ABC transporter, ATP-binding protein                                        |    382    | 613  |\n| DNA-directed RNA polymerase beta' subunit (EC 2.7.7.6)                      |    369    | 181  |\n| Phage protein                                                               |    356    |  25  |\n| Type I restriction-modification system, restriction subunit R (EC 3.1.21.3) |    316    |  93  |\n| autotransporter adhesin                                                     |    313    |  0   |\n+-----------------------------------------------------------------------------+-----------+------+\n"
      }
     ],
     "prompt_number": 11
    },
    {
     "cell_type": "code",
     "collapsed": false,
     "input": "# retrieve unique functions for each md5 set in GenBank space\nfor i, x in enumerate(seed_top):\n    print x[0]\n    if len(x[2]) == 0:\n        seed_top[i].append([])\n        continue\n    data = {'source': 'GenBank', 'data': x[2], 'limit': 100000}\n    annot = obj_from_url(api+'/m5nr/md5', json.dumps(data, separators=(',',':')))\n    if 'ERROR' in annot:\n        print annot['ERROR']\n        continue\n    funcs = dict([(a['function'], 1) for a in annot['data']])\n    seed_top[i].append(funcs.keys())",
     "language": "python",
     "metadata": {},
     "outputs": [
      {
       "output_type": "stream",
       "stream": "stdout",
       "text": "Transposase\nTonB-dependent receptor"
      },
      {
       "output_type": "stream",
       "stream": "stdout",
       "text": "\nABC transporter ATP-binding protein"
      },
      {
       "output_type": "stream",
       "stream": "stdout",
       "text": "\nDNA polymerase III alpha subunit (EC 2.7.7.7)"
      },
      {
       "output_type": "stream",
       "stream": "stdout",
       "text": "\nBeta-galactosidase (EC 3.2.1.23)"
      },
      {
       "output_type": "stream",
       "stream": "stdout",
       "text": "\nABC transporter, ATP-binding protein"
      },
      {
       "output_type": "stream",
       "stream": "stdout",
       "text": "\nDNA-directed RNA polymerase beta' subunit (EC 2.7.7.6)"
      },
      {
       "output_type": "stream",
       "stream": "stdout",
       "text": "\nPhage protein"
      },
      {
       "output_type": "stream",
       "stream": "stdout",
       "text": "\nType I restriction-modification system, restriction subunit R (EC 3.1.21.3)"
      },
      {
       "output_type": "stream",
       "stream": "stdout",
       "text": "\nautotransporter adhesin"
      },
      {
       "output_type": "stream",
       "stream": "stdout",
       "text": "\n"
      }
     ],
     "prompt_number": 13
    },
    {
     "cell_type": "code",
     "collapsed": false,
     "input": "# print table: SEED annotation, abundance, # of md5s, # of GenBank annotations\nx = PrettyTable([\"SEED annotation\", \"abundance\", \"md5s\", \"GenBank annotations\"])\nx.align[\"SEED annotation\"] = \"l\"\nfor st in seed_top:\n    x.add_row([st[0], st[1], len(st[2]), len(st[3])])\nprint x",
     "language": "python",
     "metadata": {},
     "outputs": [
      {
       "output_type": "stream",
       "stream": "stdout",
       "text": "+-----------------------------------------------+-----------+-------+---------------------+\n| SEED annotation                               | abundance |  md5s | GenBank annotations |\n+-----------------------------------------------+-----------+-------+---------------------+\n| Transposase                                   |    642    | 47002 |         9277        |\n| TonB-dependent receptor                       |    591    | 15355 |         1606        |\n| ABC transporter ATP-binding protein           |    471    | 53101 |          0          |\n| DNA polymerase III alpha subunit (EC 2.7.7.7) |    461    |  4974 |         410         |\n| Beta-galactosidase (EC 3.2.1.23)              |    435    |  4330 |         715         |\n+-----------------------------------------------+-----------+-------+---------------------+\n"
      }
     ],
     "prompt_number": 9
    },
    {
     "cell_type": "code",
     "collapsed": false,
     "input": "",
     "language": "python",
     "metadata": {},
     "outputs": []
    }
   ],
   "metadata": {}
  }
 ]
}